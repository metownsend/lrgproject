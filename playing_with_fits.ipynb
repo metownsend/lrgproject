{
 "cells": [
  {
   "cell_type": "code",
   "execution_count": 9,
   "metadata": {},
   "outputs": [],
   "source": [
    "from astropy.io import fits\n",
    "from astropy.table import Table\n",
    "from astropy.table import Column\n",
    "import numpy as np\n",
    "from pythonds.basic.stack import Stack\n"
   ]
  },
  {
   "cell_type": "code",
   "execution_count": 10,
   "metadata": {},
   "outputs": [],
   "source": [
    "hdu_north = fits.open('/Users/mtownsend/anaconda/Data/survey-dr8-north-specObj-dr14.fits')\n",
    "hdu_south = fits.open('//Users/mtownsend/anaconda/Data/survey-dr8-south-specObj-dr14.fits')\n",
    "hdu_sdss = fits.open('/Users/mtownsend/anaconda/Data/specObj-dr14.fits') # this is SDSS redshifts etc for LRGs\n"
   ]
  },
  {
   "cell_type": "code",
   "execution_count": 11,
   "metadata": {},
   "outputs": [
    {
     "name": "stdout",
     "output_type": "stream",
     "text": [
      "Filename: /Users/mtownsend/anaconda/Data/survey-dr8-north-specObj-dr14.fits\n",
      "No.    Name      Ver    Type      Cards   Dimensions   Format\n",
      "  0  PRIMARY       1 PrimaryHDU       6   ()      \n",
      "  1  MATCHED       1 BinTableHDU    342   4851200R x 164C   [I, J, 8A, J, L, I, I, 4A, D, D, E, E, E, E, 5E, E, D, D, 2A, K, E, E, E, E, E, E, E, L, E, E, I, E, E, I, E, E, I, L, E, E, I, I, E, L, E, E, E, E, B, E, E, E, E, E, E, E, E, E, E, E, E, E, E, E, E, E, E, E, E, 8E, 8E, 8E, 8E, 8E, 8E, 8E, 8E, 8E, E, E, E, E, E, E, E, I, I, I, I, I, I, I, E, E, E, E, E, E, E, E, E, E, E, E, E, E, E, E, E, E, E, E, I, I, I, I, I, I, B, B, E, E, E, E, E, E, E, E, E, E, E, E, E, 8A, 11E, 11E, 11E, 11E, 11I, 11I, 11E, 11E, 11E, 11E, 11D, 11D, E, E, E, E, E, E, E, E, E, E, E, E, E, E, J, J, J, 7A]   \n",
      "Filename: //Users/mtownsend/anaconda/Data/survey-dr8-south-specObj-dr14.fits\n",
      "No.    Name      Ver    Type      Cards   Dimensions   Format\n",
      "  0  PRIMARY       1 PrimaryHDU       6   ()      \n",
      "  1  MATCHED       1 BinTableHDU    342   4851200R x 164C   [I, J, 8A, J, L, I, I, 4A, D, D, E, E, E, E, 5E, E, D, D, 2A, K, E, E, E, E, E, E, E, L, E, E, I, E, E, I, E, E, I, L, E, E, I, I, E, L, E, E, E, E, B, E, E, E, E, E, E, E, E, E, E, E, E, E, E, E, E, E, E, E, E, 8E, 8E, 8E, 8E, 8E, 8E, 8E, 8E, 8E, E, E, E, E, E, E, E, I, I, I, I, I, I, I, E, E, E, E, E, E, E, E, E, E, E, E, E, E, E, E, E, E, E, E, I, I, I, I, I, I, B, B, E, E, E, E, E, E, E, E, E, E, E, E, E, 8A, 11E, 11E, 11E, 11E, 11I, 11I, 11E, 11E, 11E, 11E, 11D, 11D, E, E, E, E, E, E, E, E, E, E, E, E, E, E, J, J, J, 7A]   \n",
      "Filename: /Users/mtownsend/anaconda/Data/specObj-dr14.fits\n",
      "No.    Name      Ver    Type      Cards   Dimensions   Format\n",
      "  0  PRIMARY       1 PrimaryHDU       6   ()      \n",
      "  1                1 BinTableHDU    283   4851200R x 133C   [6A, 4A, 16A, 27A, 16A, 8A, E, E, E, J, E, E, J, B, B, B, B, B, B, B, J, 22A, 19A, 19A, 22A, 20A, I, 4A, 7A, 7A, J, D, D, D, E, E, 22A, 8A, K, J, J, J, J, J, K, K, J, J, J, J, J, J, K, K, K, K, K, K, K, K, I, J, J, J, J, 5J, D, D, 6A, 21A, E, E, E, J, E, 24A, 10J, J, 10E, E, E, E, E, E, E, J, E, E, E, J, E, 5E, E, 10E, 10E, 10E, 5E, 5E, 5E, 5E, 5E, J, J, E, E, E, E, E, E, 25A, 21A, 12A, E, E, E, E, E, E, E, E, J, E, E, J, 6A, 21A, E, E, J, J, A, 5E, 5E]   \n"
     ]
    }
   ],
   "source": [
    "hdu_north.info()\n",
    "hdu_south.info()\n",
    "hdu_sdss.info()"
   ]
  },
  {
   "cell_type": "code",
   "execution_count": 12,
   "metadata": {},
   "outputs": [],
   "source": [
    "data_north = hdu_north[1].data\n",
    "data_south = hdu_south[1].data\n",
    "data_sdss = hdu_sdss[1].data"
   ]
  },
  {
   "cell_type": "code",
   "execution_count": 13,
   "metadata": {},
   "outputs": [],
   "source": [
    "cols_north = hdu_north[1].columns\n",
    "cols_south = hdu_south[1].columns\n",
    "cols_sdss = hdu_sdss[1].columns"
   ]
  },
  {
   "cell_type": "code",
   "execution_count": 14,
   "metadata": {},
   "outputs": [
    {
     "name": "stdout",
     "output_type": "stream",
     "text": [
      "name:\n",
      "    ['SURVEY', 'INSTRUMENT', 'CHUNK', 'PROGRAMNAME', 'PLATERUN', 'PLATEQUALITY', 'PLATESN2', 'DEREDSN2', 'LAMBDA_EFF', 'BLUEFIBER', 'ZOFFSET', 'SNTURNOFF', 'NTURNOFF', 'SPECPRIMARY', 'SPECSDSS', 'SPECLEGACY', 'SPECSEGUE', 'SPECSEGUE1', 'SPECSEGUE2', 'SPECBOSS', 'BOSS_SPECOBJ_ID', 'SPECOBJID', 'FLUXOBJID', 'BESTOBJID', 'TARGETOBJID', 'PLATEID', 'NSPECOBS', 'FIRSTRELEASE', 'RUN2D', 'RUN1D', 'DESIGNID', 'CX', 'CY', 'CZ', 'XFOCAL', 'YFOCAL', 'SOURCETYPE', 'TARGETTYPE', 'THING_ID_TARGETING', 'THING_ID', 'PRIMTARGET', 'SECTARGET', 'LEGACY_TARGET1', 'LEGACY_TARGET2', 'SPECIAL_TARGET1', 'SPECIAL_TARGET2', 'SEGUE1_TARGET1', 'SEGUE1_TARGET2', 'SEGUE2_TARGET1', 'SEGUE2_TARGET2', 'MARVELS_TARGET1', 'MARVELS_TARGET2', 'BOSS_TARGET1', 'BOSS_TARGET2', 'EBOSS_TARGET0', 'EBOSS_TARGET1', 'EBOSS_TARGET2', 'EBOSS_TARGET_ID', 'ANCILLARY_TARGET1', 'ANCILLARY_TARGET2', 'SPECTROGRAPHID', 'PLATE', 'TILE', 'MJD', 'FIBERID', 'OBJID', 'PLUG_RA', 'PLUG_DEC', 'CLASS', 'SUBCLASS', 'Z', 'Z_ERR', 'RCHI2', 'DOF', 'RCHI2DIFF', 'TFILE', 'TCOLUMN', 'NPOLY', 'THETA', 'VDISP', 'VDISP_ERR', 'VDISPZ', 'VDISPZ_ERR', 'VDISPCHI2', 'VDISPNPIX', 'VDISPDOF', 'WAVEMIN', 'WAVEMAX', 'WCOVERAGE', 'ZWARNING', 'SN_MEDIAN_ALL', 'SN_MEDIAN', 'CHI68P', 'FRACNSIGMA', 'FRACNSIGHI', 'FRACNSIGLO', 'SPECTROFLUX', 'SPECTROFLUX_IVAR', 'SPECTROSYNFLUX', 'SPECTROSYNFLUX_IVAR', 'SPECTROSKYFLUX', 'ANYANDMASK', 'ANYORMASK', 'SPEC1_G', 'SPEC1_R', 'SPEC1_I', 'SPEC2_G', 'SPEC2_R', 'SPEC2_I', 'ELODIE_FILENAME', 'ELODIE_OBJECT', 'ELODIE_SPTYPE', 'ELODIE_BV', 'ELODIE_TEFF', 'ELODIE_LOGG', 'ELODIE_FEH', 'ELODIE_Z', 'ELODIE_Z_ERR', 'ELODIE_Z_MODELERR', 'ELODIE_RCHI2', 'ELODIE_DOF', 'Z_NOQSO', 'Z_ERR_NOQSO', 'ZWARNING_NOQSO', 'CLASS_NOQSO', 'SUBCLASS_NOQSO', 'RCHI2DIFF_NOQSO', 'Z_PERSON', 'CLASS_PERSON', 'Z_CONF_PERSON', 'COMMENTS_PERSON', 'CALIBFLUX', 'CALIBFLUX_IVAR']\n",
      "format:\n",
      "    ['6A', '4A', '16A', '27A', '16A', '8A', 'E', 'E', 'E', 'J', 'E', 'E', 'J', 'B', 'B', 'B', 'B', 'B', 'B', 'B', 'J', '22A', '19A', '19A', '22A', '20A', 'I', '4A', '7A', '7A', 'J', 'D', 'D', 'D', 'E', 'E', '22A', '8A', 'K', 'J', 'J', 'J', 'J', 'J', 'K', 'K', 'J', 'J', 'J', 'J', 'J', 'J', 'K', 'K', 'K', 'K', 'K', 'K', 'K', 'K', 'I', 'J', 'J', 'J', 'J', '5J', 'D', 'D', '6A', '21A', 'E', 'E', 'E', 'J', 'E', '24A', '10J', 'J', '10E', 'E', 'E', 'E', 'E', 'E', 'E', 'J', 'E', 'E', 'E', 'J', 'E', '5E', 'E', '10E', '10E', '10E', '5E', '5E', '5E', '5E', '5E', 'J', 'J', 'E', 'E', 'E', 'E', 'E', 'E', '25A', '21A', '12A', 'E', 'E', 'E', 'E', 'E', 'E', 'E', 'E', 'J', 'E', 'E', 'J', '6A', '21A', 'E', 'E', 'J', 'J', 'A', '5E', '5E']\n",
      "unit:\n",
      "    ['', '', '', '', '', '', '', '', '', '', '', '', '', '', '', '', '', '', '', '', '', '', '', '', '', '', '', '', '', '', '', '', '', '', '', '', '', '', '', '', '', '', '', '', '', '', '', '', '', '', '', '', '', '', '', '', '', '', '', '', '', '', '', '', '', '', '', '', '', '', '', '', '', '', '', '', '', '', '', '', '', '', '', '', '', '', '', '', '', '', '', '', '', '', '', '', '', '', '', '', '', '', '', '', '', '', '', '', '', '', '', '', '', '', '', '', '', '', '', '', '', '', '', '', '', '', '', '', '', '', '', '', '']\n",
      "null:\n",
      "    ['', '', '', '', '', '', '', '', '', '', '', '', '', '', '', '', '', '', '', '', '', '', '', '', '', '', '', '', '', '', '', '', '', '', '', '', '', '', '', '', '', '', '', '', '', '', '', '', '', '', '', '', '', '', '', '', '', '', '', '', '', '', '', '', '', '', '', '', '', '', '', '', '', '', '', '', '', '', '', '', '', '', '', '', '', '', '', '', '', '', '', '', '', '', '', '', '', '', '', '', '', '', '', '', '', '', '', '', '', '', '', '', '', '', '', '', '', '', '', '', '', '', '', '', '', '', '', '', '', '', '', '', '']\n",
      "bscale:\n",
      "    ['', '', '', '', '', '', '', '', '', '', '', '', '', '', '', '', '', '', '', '', '', '', '', '', '', '', '', '', '', '', '', '', '', '', '', '', '', '', '', '', '', '', '', '', '', '', '', '', '', '', '', '', '', '', '', '', '', '', '', '', '', '', '', '', '', '', '', '', '', '', '', '', '', '', '', '', '', '', '', '', '', '', '', '', '', '', '', '', '', '', '', '', '', '', '', '', '', '', '', '', '', '', '', '', '', '', '', '', '', '', '', '', '', '', '', '', '', '', '', '', '', '', '', '', '', '', '', '', '', '', '', '', '']\n",
      "bzero:\n",
      "    ['', '', '', '', '', '', '', '', '', '', '', '', '', '', '', '', '', '', '', '', '', '', '', '', '', '', '', '', '', '', '', '', '', '', '', '', '', '', '', '', '', '', '', '', '', '', '', '', '', '', '', '', '', '', '', '', '', '', '', '', '', '', '', '', '', '', '', '', '', '', '', '', '', '', '', '', '', '', '', '', '', '', '', '', '', '', '', '', '', '', '', '', '', '', '', '', '', '', '', '', '', '', '', '', '', '', '', '', '', '', '', '', '', '', '', '', '', '', '', '', '', '', '', '', '', '', '', '', '', '', '', '', '']\n",
      "disp:\n",
      "    ['', '', '', '', '', '', '', '', '', '', '', '', '', '', '', '', '', '', '', '', '', '', '', '', '', '', '', '', '', '', '', '', '', '', '', '', '', '', '', '', '', '', '', '', '', '', '', '', '', '', '', '', '', '', '', '', '', '', '', '', '', '', '', '', '', '', '', '', '', '', '', '', '', '', '', '', '', '', '', '', '', '', '', '', '', '', '', '', '', '', '', '', '', '', '', '', '', '', '', '', '', '', '', '', '', '', '', '', '', '', '', '', '', '', '', '', '', '', '', '', '', '', '', '', '', '', '', '', '', '', '', '', '']\n",
      "start:\n",
      "    ['', '', '', '', '', '', '', '', '', '', '', '', '', '', '', '', '', '', '', '', '', '', '', '', '', '', '', '', '', '', '', '', '', '', '', '', '', '', '', '', '', '', '', '', '', '', '', '', '', '', '', '', '', '', '', '', '', '', '', '', '', '', '', '', '', '', '', '', '', '', '', '', '', '', '', '', '', '', '', '', '', '', '', '', '', '', '', '', '', '', '', '', '', '', '', '', '', '', '', '', '', '', '', '', '', '', '', '', '', '', '', '', '', '', '', '', '', '', '', '', '', '', '', '', '', '', '', '', '', '', '', '', '']\n",
      "dim:\n",
      "    ['', '', '', '', '', '', '', '', '', '', '', '', '', '', '', '', '', '', '', '', '', '', '', '', '', '', '', '', '', '', '', '', '', '', '', '', '', '', '', '', '', '', '', '', '', '', '', '', '', '', '', '', '', '', '', '', '', '', '', '', '', '', '', '', '', '', '', '', '', '', '', '', '', '', '', '', '', '', '', '', '', '', '', '', '', '', '', '', '', '', '', '', '', '', '', '', '', '', '', '', '', '', '', '', '', '', '', '', '', '', '', '', '', '', '', '', '', '', '', '', '', '', '', '', '', '', '', '', '', '', '', '', '']\n",
      "coord_type:\n",
      "    ['', '', '', '', '', '', '', '', '', '', '', '', '', '', '', '', '', '', '', '', '', '', '', '', '', '', '', '', '', '', '', '', '', '', '', '', '', '', '', '', '', '', '', '', '', '', '', '', '', '', '', '', '', '', '', '', '', '', '', '', '', '', '', '', '', '', '', '', '', '', '', '', '', '', '', '', '', '', '', '', '', '', '', '', '', '', '', '', '', '', '', '', '', '', '', '', '', '', '', '', '', '', '', '', '', '', '', '', '', '', '', '', '', '', '', '', '', '', '', '', '', '', '', '', '', '', '', '', '', '', '', '', '']\n",
      "coord_unit:\n",
      "    ['', '', '', '', '', '', '', '', '', '', '', '', '', '', '', '', '', '', '', '', '', '', '', '', '', '', '', '', '', '', '', '', '', '', '', '', '', '', '', '', '', '', '', '', '', '', '', '', '', '', '', '', '', '', '', '', '', '', '', '', '', '', '', '', '', '', '', '', '', '', '', '', '', '', '', '', '', '', '', '', '', '', '', '', '', '', '', '', '', '', '', '', '', '', '', '', '', '', '', '', '', '', '', '', '', '', '', '', '', '', '', '', '', '', '', '', '', '', '', '', '', '', '', '', '', '', '', '', '', '', '', '', '']\n",
      "coord_ref_point:\n",
      "    ['', '', '', '', '', '', '', '', '', '', '', '', '', '', '', '', '', '', '', '', '', '', '', '', '', '', '', '', '', '', '', '', '', '', '', '', '', '', '', '', '', '', '', '', '', '', '', '', '', '', '', '', '', '', '', '', '', '', '', '', '', '', '', '', '', '', '', '', '', '', '', '', '', '', '', '', '', '', '', '', '', '', '', '', '', '', '', '', '', '', '', '', '', '', '', '', '', '', '', '', '', '', '', '', '', '', '', '', '', '', '', '', '', '', '', '', '', '', '', '', '', '', '', '', '', '', '', '', '', '', '', '', '']\n",
      "coord_ref_value:\n",
      "    ['', '', '', '', '', '', '', '', '', '', '', '', '', '', '', '', '', '', '', '', '', '', '', '', '', '', '', '', '', '', '', '', '', '', '', '', '', '', '', '', '', '', '', '', '', '', '', '', '', '', '', '', '', '', '', '', '', '', '', '', '', '', '', '', '', '', '', '', '', '', '', '', '', '', '', '', '', '', '', '', '', '', '', '', '', '', '', '', '', '', '', '', '', '', '', '', '', '', '', '', '', '', '', '', '', '', '', '', '', '', '', '', '', '', '', '', '', '', '', '', '', '', '', '', '', '', '', '', '', '', '', '', '']\n",
      "coord_inc:\n",
      "    ['', '', '', '', '', '', '', '', '', '', '', '', '', '', '', '', '', '', '', '', '', '', '', '', '', '', '', '', '', '', '', '', '', '', '', '', '', '', '', '', '', '', '', '', '', '', '', '', '', '', '', '', '', '', '', '', '', '', '', '', '', '', '', '', '', '', '', '', '', '', '', '', '', '', '', '', '', '', '', '', '', '', '', '', '', '', '', '', '', '', '', '', '', '', '', '', '', '', '', '', '', '', '', '', '', '', '', '', '', '', '', '', '', '', '', '', '', '', '', '', '', '', '', '', '', '', '', '', '', '', '', '', '']\n",
      "time_ref_pos:\n",
      "    ['', '', '', '', '', '', '', '', '', '', '', '', '', '', '', '', '', '', '', '', '', '', '', '', '', '', '', '', '', '', '', '', '', '', '', '', '', '', '', '', '', '', '', '', '', '', '', '', '', '', '', '', '', '', '', '', '', '', '', '', '', '', '', '', '', '', '', '', '', '', '', '', '', '', '', '', '', '', '', '', '', '', '', '', '', '', '', '', '', '', '', '', '', '', '', '', '', '', '', '', '', '', '', '', '', '', '', '', '', '', '', '', '', '', '', '', '', '', '', '', '', '', '', '', '', '', '', '', '', '', '', '', '']\n"
     ]
    }
   ],
   "source": [
    "# cols_north.info()\n",
    "# cols_north['RA']\n",
    "# cols_south.info()\n",
    "# cols_south['RA']\n",
    "cols_sdss.info()"
   ]
  },
  {
   "cell_type": "code",
   "execution_count": 8,
   "metadata": {},
   "outputs": [],
   "source": [
    "# RA\n",
    "ra_north_MATCHED = []\n",
    "ra_north_MATCHED = data_north.field('RA')\n",
    "\n",
    "ra_south_MATCHED = []\n",
    "ra_south_MATCHED = data_south.field('RA')\n",
    "\n",
    "ra_MATCHED = np.concatenate([ra_north_MATCHED, ra_south_MATCHED])\n",
    "\n",
    "# Dec\n",
    "dec_north_MATCHED = []\n",
    "dec_north_MATCHED = data_north.field('DEC')\n",
    "\n",
    "dec_south_MATCHED = []\n",
    "dec_south_MATCHED = data_south.field('DEC')\n",
    "\n",
    "dec_MATCHED = np.concatenate([dec_north_MATCHED, dec_south_MATCHED])\n"
   ]
  },
  {
   "cell_type": "code",
   "execution_count": 9,
   "metadata": {},
   "outputs": [],
   "source": [
    "t = Table([[ra_MATCHED], [dec_MATCHED]], names=('RA', 'DEC'))\n",
    "t.write('test_table.fits', format='fits')\n"
   ]
  },
  {
   "cell_type": "code",
   "execution_count": 11,
   "metadata": {},
   "outputs": [],
   "source": [
    "hdu1 = fits.open('/Users/mindy/Research/GitHub/LRG-Sats/test_table.fits')\n",
    "cols1 = hdu1[1].columns\n",
    "# cols1.info()"
   ]
  },
  {
   "cell_type": "code",
   "execution_count": 25,
   "metadata": {},
   "outputs": [
    {
     "name": "stdout",
     "output_type": "stream",
     "text": [
      "9702400\n"
     ]
    }
   ],
   "source": [
    "# row-matched data\n",
    "\n",
    "brickid_north = []\n",
    "brickid_south =[]\n",
    "brickid_north = data_north.field('BRICKID')\n",
    "brickid_south = data_south.field('BRICKID')\n",
    "\n",
    "# brickid = np.concatenate([brickid_north, brickid_south])\n",
    "\n",
    "objid_north = []\n",
    "objid_south = []\n",
    "objid_north = data_north.field('OBJID')\n",
    "objid_south = data_south.field('OBJID')\n",
    "\n",
    "# objid = np.concatenate([objid_north, objid_south])\n",
    "\n",
    "brickname_north = []\n",
    "brickname_south = []\n",
    "brickname_north = data_north.field('BRICKNAME')\n",
    "brickname_south = data_south.field('BRICKNAME')\n",
    "\n",
    "# brickname = np.concatenate([brickname_north, brickname_south])\n",
    "\n",
    "ra_north = []\n",
    "ra_south = []\n",
    "ra_north = data_north.field('RA')\n",
    "ra_south = data_south.field('RA')\n",
    "\n",
    "# ra = np.concatenate([ra_north, ra_south])\n",
    "\n",
    "dec_north = []\n",
    "dec_south = []\n",
    "dec_north = data_north.field('DEC')\n",
    "dec_south = data_south.field('DEC')\n",
    "\n",
    "# dec = np.concatenate([dec_north, dec_south])\n",
    "\n",
    "flux_g_north = []\n",
    "flux_g_south = []\n",
    "flux_g_north = data_north.field('FLUX_G')\n",
    "flux_g_south = data_south.field('FLUX_G')\n",
    "\n",
    "# gflux = np.concatenate([flux_g_north, flux_g_south])\n",
    "\n",
    "flux_r_north = []\n",
    "flux_r_south = []\n",
    "flux_r_north = data_north.field('FLUX_R')\n",
    "flux_r_south = data_south.field('FLUX_R')\n",
    "\n",
    "# rflux = np.concatenate([flux_r_north, flux_r_south])\n",
    "\n",
    "flux_z_north = []\n",
    "flux_z_south = []\n",
    "flux_z_north = data_north.field('FLUX_Z')\n",
    "flux_z_south = data_south.field('FLUX_Z')\n",
    "\n",
    "# zflux = np.concatenate([flux_z_north, flux_z_south])\n",
    "\n",
    "flux_w1_north = [] \n",
    "flux_w1_south = []\n",
    "flux_w1_north = data_north.field('FLUX_W1')\n",
    "flux_w1_south = data_south.field('FLUX_W1')\n",
    "\n",
    "# w1flux = np.concatenate([flux_w1_north, flux_w1_south])\n",
    "\n",
    "flux_w2_north = []\n",
    "flux_w2_south = []\n",
    "flux_w2_north = data_north.field('FLUX_W2')\n",
    "flux_w2_south = data_south.field('FLUX_W2')\n",
    "\n",
    "# w2flux = np.concatenate([flux_w2_north, flux_w2_south])\n",
    "\n",
    "flux_ivar_g_north = []\n",
    "flux_ivar_g_south = []\n",
    "flux_ivar_g_north = data_north.field('FLUX_IVAR_G')\n",
    "flux_ivar_g_south = data_south.field('FLUX_IVAR_G')\n",
    "\n",
    "# gflux_ivar = np.concatenate([flux_ivar_g_north, flux_ivar_g_south])\n",
    "\n",
    "flux_ivar_r_north = [] \n",
    "flux_ivar_r_south = []\n",
    "flux_ivar_r_north = data_north.field('FLUX_IVAR_R')\n",
    "flux_ivar_r_south = data_south.field('FLUX_IVAR_R')\n",
    "\n",
    "# rflux_ivar = np.concatenate([flux_ivar_r_north, flux_ivar_r_south])\n",
    "\n",
    "flux_ivar_z_north = []\n",
    "flux_ivar_z_south = []\n",
    "flux_ivar_z_north = data_north.field('FLUX_IVAR_Z')\n",
    "flux_ivar_z_south = data_south.field('FLUX_IVAR_Z')\n",
    "\n",
    "# zflux_ivar = np.concatenate([flux_ivar_z_north, flux_ivar_z_south])\n",
    "\n",
    "flux_ivar_w1_north = []\n",
    "flux_ivar_w1_south = []\n",
    "flux_ivar_w1_north = data_north.field('FLUX_IVAR_W1')\n",
    "flux_ivar_w1_south = data_south.field('FLUX_IVAR_W1')\n",
    "\n",
    "# w1flux_ivar = np.concatenate([flux_ivar_w1_north, flux_ivar_w1_south])\n",
    "\n",
    "flux_ivar_w2_north = []\n",
    "flux_ivar_w2_south = []\n",
    "flux_ivar_w2_north = data_north.field('FLUX_IVAR_W2')\n",
    "flux_ivar_w2_south = data_south.field('FLUX_IVAR_W2')\n",
    "\n",
    "# w2flux_ivar = np.concatenate([flux_ivar_w2_north, flux_ivar_w2_south])\n",
    "\n",
    "print(len(ra))"
   ]
  },
  {
   "cell_type": "code",
   "execution_count": 30,
   "metadata": {},
   "outputs": [
    {
     "name": "stdout",
     "output_type": "stream",
     "text": [
      "['0' '0' '0' ... '0' '0' '0']\n",
      "done finding LRG flags\n",
      "4851200\n",
      "4851200\n",
      "4851200\n"
     ]
    }
   ],
   "source": [
    "# SDSS data\n",
    "\n",
    "z = []\n",
    "z = data_sdss.field('Z')\n",
    "\n",
    "targets = []\n",
    "targets = data_sdss.field('BOSS_TARGET1')\n",
    "\n",
    "# Class of object\n",
    "gal_class = []\n",
    "gal_class = data_sdss.field('CLASS')\n",
    "\n",
    "# What survey the data is from\n",
    "survey = []\n",
    "survey = data_sdss.field('SURVEY')\n",
    "\n",
    "# SPECPRIMARY; set to 1 for primary observation of object, 0 otherwise\n",
    "spec = []\n",
    "spec = data_sdss.field('SPECPRIMARY')\n",
    "\n",
    "# Bitmask of spectroscopic warning values; need set to 0\n",
    "zwarn_noqso = []\n",
    "zwarn_noqso = data_sdss.field('ZWARNING_NOQSO')\n",
    "\n",
    "# Spectroscopic classification for certain redshift?\n",
    "class_noqso = []\n",
    "class_noqso = data_sdss.field('CLASS_NOQSO')\n",
    "\n",
    "# Section of code to find LRG targets\n",
    "\n",
    "def divideBy2(decNumber):\n",
    "\n",
    "    # from pythonds.basic.stack import Stack\n",
    "    # import numpy as np\n",
    "\n",
    "    np.vectorize(decNumber)\n",
    "    remstack = Stack()\n",
    "\n",
    "    if decNumber == 0: return \"0\"\n",
    "\n",
    "    while decNumber > 0:\n",
    "        rem = decNumber % 2\n",
    "        remstack.push(rem)\n",
    "        decNumber = decNumber // 2\n",
    "\n",
    "    binString = \"\"\n",
    "    while not remstack.isEmpty():\n",
    "        binString = binString + str(remstack.pop())\n",
    "\n",
    "    return binString\n",
    "\n",
    "# Function to find LRG targets\n",
    "\n",
    "divideBy2Vec = np.vectorize(divideBy2)\n",
    "\n",
    "\n",
    "a = divideBy2Vec(targets)  # gives binary in string form\n",
    "\n",
    "print(a)\n",
    "\n",
    "b = []\n",
    "\n",
    "for i in range(len(a)):\n",
    "    b.append(list((a[i])))\n",
    "    b[i].reverse()\n",
    "\n",
    "\n",
    "lrg = []\n",
    "\n",
    "# Finds flags for BOSS LOWZ and CMASS sample\n",
    "for i in range(len(b)):\n",
    "    try:\n",
    "        if (b[i][0] == '1') or (b[i][1] == '1'):\n",
    "            lrg.append(int(1))\n",
    "#         elif (b[i][1] == '1'):\n",
    "#             lrg.append(int(2))\n",
    "        else:\n",
    "            lrg.append(int(0))\n",
    "    except IndexError:\n",
    "        pass\n",
    "        lrg.append(int(0))\n",
    "\n",
    "lrg = np.array(lrg)\n",
    "\n",
    "print('done finding LRG flags')\n",
    "\n",
    "print(len(ra_north))\n",
    "print(len(ra_south))\n",
    "print(len(lrg))"
   ]
  },
  {
   "cell_type": "code",
   "execution_count": 53,
   "metadata": {},
   "outputs": [
    {
     "name": "stdout",
     "output_type": "stream",
     "text": [
      "4851200\n"
     ]
    }
   ],
   "source": [
    "print(len(targets))"
   ]
  },
  {
   "cell_type": "code",
   "execution_count": 54,
   "metadata": {},
   "outputs": [
    {
     "name": "stdout",
     "output_type": "stream",
     "text": [
      "1528081\n",
      "2627696\n",
      "1528081\n",
      "2627696\n",
      "1528081\n",
      "2627696\n",
      "----\n",
      "1406221\n",
      "403250\n",
      "892995\n",
      "403250\n",
      "892995\n"
     ]
    }
   ],
   "source": [
    "print(len(ra_north[np.where(objid_north != -1)]))\n",
    "print(len(ra_south[np.where(objid_south != -1)]))\n",
    "print(len(flux_g_north[np.where(objid_north != -1)]))\n",
    "print(len(flux_g_south[np.where(objid_south != -1)]))\n",
    "print(len(brickname_north[np.where(objid_north != -1)]))\n",
    "print(len(brickname_south[np.where(objid_south != -1)]))\n",
    "print('----')\n",
    "print(len(lrg[np.where(lrg == 1)]))\n",
    "# print(dec_north[3])\n",
    "# print(dec_south[3])\n",
    "\n",
    "LRG_only_north = ((objid_north != -1) & (lrg == 1) & (spec == 1) & (zwarn_noqso == 0))\n",
    "LRG_only_south = ((objid_south != -1) & (lrg == 1) & (spec == 1) & (zwarn_noqso == 0))\n",
    "\n",
    "print(len(ra_north[np.where(LRG_only_north)]))\n",
    "print(len(ra_south[np.where(LRG_only_south)]))\n",
    "print(len(z[np.where(LRG_only_north)]))\n",
    "print(len(z[np.where(LRG_only_south)]))"
   ]
  },
  {
   "cell_type": "code",
   "execution_count": 62,
   "metadata": {},
   "outputs": [
    {
     "name": "stdout",
     "output_type": "stream",
     "text": [
      "1296245\n",
      "1296245\n",
      "1296245\n",
      "1296245\n",
      "1296245\n",
      "1296245\n",
      "1296245\n",
      "1296245\n",
      "1296245\n",
      "1296245\n",
      "1296245\n",
      "1296245\n",
      "1296245\n",
      "1296245\n",
      "1296245\n",
      "1296245\n"
     ]
    }
   ],
   "source": [
    "# row-matched data\n",
    "\n",
    "brickid_north_LRG = brickid_north[np.where(LRG_only_north)]\n",
    "brickid_south_LRG = brickid_south[np.where(LRG_only_south)]\n",
    "\n",
    "brickid_LRG = np.concatenate([brickid_north_LRG, brickid_south_LRG])\n",
    "print(len(brickid_LRG))\n",
    "\n",
    "objid_north_LRG = objid_north[np.where(LRG_only_north)]\n",
    "objid_south_LRG = objid_south[np.where(LRG_only_south)]\n",
    "\n",
    "objid_LRG = np.concatenate([objid_north_LRG, objid_south_LRG])\n",
    "print(len(objid_LRG))\n",
    "\n",
    "brickname_north_LRG = brickname_north[np.where(LRG_only_north)]\n",
    "brickname_south_LRG = brickname_south[np.where(LRG_only_south)]\n",
    "\n",
    "brickname_LRG = np.concatenate([brickname_north_LRG, brickname_south_LRG])\n",
    "print(len(brickname_LRG))\n",
    "\n",
    "ra_north_LRG = ra_north[np.where(LRG_only_north)]\n",
    "ra_south_LRG = ra_south[np.where(LRG_only_south)]\n",
    "\n",
    "ra_LRG = np.concatenate([ra_north_LRG, ra_south_LRG])\n",
    "print(len(ra_LRG))\n",
    "\n",
    "dec_north_LRG = dec_north[np.where(LRG_only_north)]\n",
    "dec_south_LRG = dec_south[np.where(LRG_only_south)]\n",
    "\n",
    "dec_LRG = np.concatenate([dec_north_LRG, dec_south_LRG])\n",
    "print(len(dec_LRG))\n",
    "\n",
    "flux_g_north_LRG = flux_g_north[np.where(LRG_only_north)]\n",
    "flux_g_south_LRG = flux_g_south[np.where(LRG_only_south)]\n",
    "\n",
    "gflux_LRG = np.concatenate([flux_g_north_LRG, flux_g_south_LRG])\n",
    "print(len(gflux_LRG))\n",
    "\n",
    "flux_r_north_LRG = flux_r_north[np.where(LRG_only_north)]\n",
    "flux_r_south_LRG = flux_r_south[np.where(LRG_only_south)]\n",
    "\n",
    "rflux_LRG = np.concatenate([flux_r_north_LRG, flux_r_south_LRG])\n",
    "print(len(rflux_LRG))\n",
    "\n",
    "flux_z_north_LRG = flux_z_north[np.where(LRG_only_north)]\n",
    "flux_z_south_LRG = flux_z_south[np.where(LRG_only_south)]\n",
    "\n",
    "zflux_LRG = np.concatenate([flux_z_north_LRG, flux_z_south_LRG])\n",
    "print(len(zflux_LRG))\n",
    "\n",
    "flux_w1_north_LRG = flux_w1_north[np.where(LRG_only_north)] \n",
    "flux_w1_south_LRG = flux_w1_south[np.where(LRG_only_south)]\n",
    "\n",
    "w1flux_LRG = np.concatenate([flux_w1_north_LRG, flux_w1_south_LRG])\n",
    "print(len(w1flux_LRG))\n",
    "\n",
    "flux_w2_north_LRG = flux_w2_north[np.where(LRG_only_north)]\n",
    "flux_w2_south_LRG = flux_w2_south[np.where(LRG_only_south)]\n",
    "\n",
    "w2flux_LRG = np.concatenate([flux_w2_north_LRG, flux_w2_south_LRG])\n",
    "print(len(w2flux_LRG))\n",
    "\n",
    "flux_ivar_g_north_LRG = flux_ivar_g_north[np.where(LRG_only_north)]\n",
    "flux_ivar_g_south_LRG = flux_ivar_g_south[np.where(LRG_only_south)]\n",
    "\n",
    "gflux_ivar_LRG = np.concatenate([flux_ivar_g_north_LRG, flux_ivar_g_south_LRG])\n",
    "print(len(gflux_ivar_LRG))\n",
    "\n",
    "flux_ivar_r_north_LRG = flux_ivar_r_north[np.where(LRG_only_north)]\n",
    "flux_ivar_r_south_LRG = flux_ivar_r_south[np.where(LRG_only_south)]\n",
    "\n",
    "rflux_ivar_LRG = np.concatenate([flux_ivar_r_north_LRG, flux_ivar_r_south_LRG])\n",
    "print(len(rflux_ivar_LRG))\n",
    "\n",
    "flux_ivar_z_north_LRG = flux_ivar_z_north[np.where(LRG_only_north)]\n",
    "flux_ivar_z_south_LRG = flux_ivar_z_south[np.where(LRG_only_south)]\n",
    "\n",
    "zflux_ivar_LRG = np.concatenate([flux_ivar_z_north_LRG, flux_ivar_z_south_LRG])\n",
    "print(len(zflux_ivar_LRG))\n",
    "\n",
    "flux_ivar_w1_north_LRG = flux_ivar_w1_north[np.where(LRG_only_north)]\n",
    "flux_ivar_w1_south_LRG = flux_ivar_w1_south[np.where(LRG_only_south)]\n",
    "\n",
    "w1flux_ivar_LRG = np.concatenate([flux_ivar_w1_north_LRG, flux_ivar_w1_south_LRG])\n",
    "print(len(w1flux_ivar_LRG))\n",
    "\n",
    "flux_ivar_w2_north_LRG = flux_ivar_w2_north[np.where(LRG_only_north)]\n",
    "flux_ivar_w2_south_LRG = flux_ivar_w2_south[np.where(LRG_only_south)]\n",
    "\n",
    "w2flux_ivar_LRG = np.concatenate([flux_ivar_w2_north_LRG, flux_ivar_w2_south_LRG])\n",
    "print(len(w2flux_ivar_LRG))\n",
    "\n",
    "z_north_LRG = z[np.where(LRG_only_north)]\n",
    "z_south_LRG = z[np.where(LRG_only_south)]\n",
    "\n",
    "z_LRG = np.concatenate([z_north_LRG, z_south_LRG])\n",
    "print(len(z_LRG))\n",
    "\n",
    "\n",
    "# print(len(ra_LRG[np.where((ra_LRG >= 241) & (ra_LRG <= 246) & (dec_LRG >= 6.5) & (dec_LRG <= 11.5))]))\n",
    "\n"
   ]
  },
  {
   "cell_type": "code",
   "execution_count": 59,
   "metadata": {},
   "outputs": [],
   "source": [
    "t = Table([[brickid_LRG], [objid_LRG], [brickname_LRG], [ra_LRG], [dec_LRG], [z_LRG], [gflux_LRG], [rflux_LRG], [zflux_LRG], [w1flux_LRG], [w2flux_LRG], [gflux_ivar_LRG], [rflux_ivar_LRG], [zflux_ivar_LRG], [w1flux_ivar_LRG], [w2flux_ivar_LRG]], names=('BRICKID', 'OBJID', 'BRICKNAME', 'RA', 'DEC', 'Z', 'FLUX_G', 'FLUX_R', 'FLUX_Z', 'FLUX_W1', 'FLUX_W2', 'FLUX_G_IVAR', 'FLUX_R_IVAR', 'FLUX_Z_IVAR', 'FLUX_W1_IVAR', 'FLUX_W2_IVAR'))\n",
    "t.write('lrg-survey-dr8.fits', format='fits')\n",
    "\n"
   ]
  },
  {
   "cell_type": "code",
   "execution_count": 67,
   "metadata": {},
   "outputs": [
    {
     "name": "stdout",
     "output_type": "stream",
     "text": [
      "Filename: lrg-survey-dr8.fits\n",
      "No.    Name      Ver    Type      Cards   Dimensions   Format\n",
      "  0  PRIMARY       1 PrimaryHDU       4   ()      \n",
      "  1                1 BinTableHDU     41   1R x 16C   [1296245J, 1296245J, 41479840A, 1296245D, 1296245D, 1296245E, 1296245E, 1296245E, 1296245E, 1296245E, 1296245E, 1296245E, 1296245E, 1296245E, 1296245E, 1296245E]   \n"
     ]
    }
   ],
   "source": [
    "hdu1 = fits.open('lrg-survey-dr8.fits')\n",
    "hdu1.info()\n",
    "cols1 = hdu1[1].columns\n",
    "data = hdu1[1].data"
   ]
  },
  {
   "cell_type": "code",
   "execution_count": 68,
   "metadata": {},
   "outputs": [
    {
     "name": "stdout",
     "output_type": "stream",
     "text": [
      "name:\n",
      "    ['BRICKID', 'OBJID', 'BRICKNAME', 'RA', 'DEC', 'Z', 'FLUX_G', 'FLUX_R', 'FLUX_Z', 'FLUX_W1', 'FLUX_W2', 'FLUX_G_IVAR', 'FLUX_R_IVAR', 'FLUX_Z_IVAR', 'FLUX_W1_IVAR', 'FLUX_W2_IVAR']\n",
      "format:\n",
      "    ['1296245J', '1296245J', '41479840A', '1296245D', '1296245D', '1296245E', '1296245E', '1296245E', '1296245E', '1296245E', '1296245E', '1296245E', '1296245E', '1296245E', '1296245E', '1296245E']\n",
      "unit:\n",
      "    ['', '', '', '', '', '', '', '', '', '', '', '', '', '', '', '']\n",
      "null:\n",
      "    ['', '', '', '', '', '', '', '', '', '', '', '', '', '', '', '']\n",
      "bscale:\n",
      "    ['', '', '', '', '', '', '', '', '', '', '', '', '', '', '', '']\n",
      "bzero:\n",
      "    ['', '', '', '', '', '', '', '', '', '', '', '', '', '', '', '']\n",
      "disp:\n",
      "    ['', '', '', '', '', '', '', '', '', '', '', '', '', '', '', '']\n",
      "start:\n",
      "    ['', '', '', '', '', '', '', '', '', '', '', '', '', '', '', '']\n",
      "dim:\n",
      "    ['', '', '(32,1296245)', '', '', '', '', '', '', '', '', '', '', '', '', '']\n",
      "coord_type:\n",
      "    ['', '', '', '', '', '', '', '', '', '', '', '', '', '', '', '']\n",
      "coord_unit:\n",
      "    ['', '', '', '', '', '', '', '', '', '', '', '', '', '', '', '']\n",
      "coord_ref_point:\n",
      "    ['', '', '', '', '', '', '', '', '', '', '', '', '', '', '', '']\n",
      "coord_ref_value:\n",
      "    ['', '', '', '', '', '', '', '', '', '', '', '', '', '', '', '']\n",
      "coord_inc:\n",
      "    ['', '', '', '', '', '', '', '', '', '', '', '', '', '', '', '']\n",
      "time_ref_pos:\n",
      "    ['', '', '', '', '', '', '', '', '', '', '', '', '', '', '', '']\n"
     ]
    }
   ],
   "source": [
    "cols1.info()"
   ]
  },
  {
   "cell_type": "code",
   "execution_count": 82,
   "metadata": {},
   "outputs": [
    {
     "name": "stdout",
     "output_type": "stream",
     "text": [
      "[[327525 327525 330405 ... 275984 277406 277406]]\n"
     ]
    }
   ],
   "source": [
    "brickid = data.field('BRICKID')\n",
    "print(data['BRICKID'])\n",
    "\n",
    "# print(brickid[0])\n",
    "# print(np.concatenate(brickid))\n",
    "# print(brickid_LRG)\n",
    "# print(type(brickid_north_LRG))\n"
   ]
  },
  {
   "cell_type": "code",
   "execution_count": null,
   "metadata": {},
   "outputs": [],
   "source": []
  }
 ],
 "metadata": {
  "kernelspec": {
   "display_name": "Python 3",
   "language": "python",
   "name": "python3"
  },
  "language_info": {
   "codemirror_mode": {
    "name": "ipython",
    "version": 3
   },
   "file_extension": ".py",
   "mimetype": "text/x-python",
   "name": "python",
   "nbconvert_exporter": "python",
   "pygments_lexer": "ipython3",
   "version": "3.5.5"
  }
 },
 "nbformat": 4,
 "nbformat_minor": 2
}
